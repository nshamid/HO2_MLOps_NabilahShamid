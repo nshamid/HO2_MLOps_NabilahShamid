{
  "nbformat": 4,
  "nbformat_minor": 0,
  "metadata": {
    "colab": {
      "provenance": [],
      "authorship_tag": "ABX9TyOsjJhRNGRG47DT0RspusFQ",
      "include_colab_link": true
    },
    "kernelspec": {
      "name": "python3",
      "display_name": "Python 3"
    },
    "language_info": {
      "name": "python"
    }
  },
  "cells": [
    {
      "cell_type": "markdown",
      "metadata": {
        "id": "view-in-github",
        "colab_type": "text"
      },
      "source": [
        "<a href=\"https://colab.research.google.com/github/nshamid/HO2_MLOps_NabilahShamid/blob/main/HO2_MLOps_NabilahShamid.ipynb\" target=\"_parent\"><img src=\"https://colab.research.google.com/assets/colab-badge.svg\" alt=\"Open In Colab\"/></a>"
      ]
    },
    {
      "cell_type": "markdown",
      "source": [
        "# Data Source"
      ],
      "metadata": {
        "id": "gp-mBz_UQrQL"
      }
    },
    {
      "cell_type": "code",
      "source": [
        "# Import libraries\n",
        "import requests\n",
        "import zipfile\n",
        "import os\n",
        "import pandas as pd\n",
        "import numpy as np"
      ],
      "metadata": {
        "id": "Ee5q5jM7MFPG"
      },
      "execution_count": 38,
      "outputs": []
    },
    {
      "cell_type": "code",
      "source": [
        "# Dataset yang bersih diunggah di Github untuk kemudahan akses\n",
        "dataset_url = 'https://github.com/nshamid/HO2_MLOps_NabilahShamid/raw/refs/heads/main/cleaned_job_data.zip'\n",
        "\n",
        "# Unduh file ZIP\n",
        "response = requests.get(dataset_url)\n",
        "with open('dataset.zip', 'wb') as f:\n",
        "    f.write(response.content)\n",
        "\n",
        "print(\"ZIP file berhasil diunduh!\")"
      ],
      "metadata": {
        "colab": {
          "base_uri": "https://localhost:8080/"
        },
        "id": "P-_xE3mFMHQ1",
        "outputId": "c4639a2c-1527-4eec-bc43-7ffb6c3f4ee3"
      },
      "execution_count": 39,
      "outputs": [
        {
          "output_type": "stream",
          "name": "stdout",
          "text": [
            "ZIP file berhasil diunduh!\n"
          ]
        }
      ]
    },
    {
      "cell_type": "code",
      "source": [
        "# Mengecek nama file\n",
        "with zipfile.ZipFile('dataset.zip', 'r') as zip_ref:\n",
        "    file_list = zip_ref.namelist()\n",
        "    print(\"Isi file di dalam ZIP:\")\n",
        "    for f in file_list:\n",
        "        print(f)\n",
        "\n",
        "    # Ekstrak semua file\n",
        "    zip_ref.extractall()\n",
        "\n",
        "print(\"ZIP file berhasil diekstrak!\")"
      ],
      "metadata": {
        "colab": {
          "base_uri": "https://localhost:8080/"
        },
        "id": "4VQIchagMQTm",
        "outputId": "0cee33e6-1365-4838-e967-b06b8470d97f"
      },
      "execution_count": 40,
      "outputs": [
        {
          "output_type": "stream",
          "name": "stdout",
          "text": [
            "Isi file di dalam ZIP:\n",
            "cleaned_job_data.csv\n",
            "ZIP file berhasil diekstrak!\n"
          ]
        }
      ]
    },
    {
      "cell_type": "code",
      "source": [
        "file_name = 'cleaned_job_data.csv'\n",
        "\n",
        "# Load CSV ke DataFrame\n",
        "df = pd.read_csv(file_name)"
      ],
      "metadata": {
        "id": "NNczTkUCMTFu"
      },
      "execution_count": 41,
      "outputs": []
    },
    {
      "cell_type": "code",
      "source": [
        "print(df.head())"
      ],
      "metadata": {
        "colab": {
          "base_uri": "https://localhost:8080/"
        },
        "id": "9cuhzYlTMVFG",
        "outputId": "103e9283-0199-4cbc-b974-f9973b6d73b2"
      },
      "execution_count": 42,
      "outputs": [
        {
          "output_type": "stream",
          "name": "stdout",
          "text": [
            "     job_id                            job_title  \\\n",
            "0  72761527                        data engineer   \n",
            "1  72787241         machine learning engineer ai   \n",
            "2  72866732              senior riskdata analyst   \n",
            "3  72851872  senior data engineer hybrid working   \n",
            "4  72526811        data scientist hybrid working   \n",
            "\n",
            "                             company  \\\n",
            "0          anhsin technology sdn bhd   \n",
            "1            accordia global sdn bhd   \n",
            "2  toyota capital malaysia sdn. bhd.   \n",
            "3                               seek   \n",
            "4              seek asia (jobstreet)   \n",
            "\n",
            "                                        descriptions          location  \\\n",
            "0  design develop and maintain scalable and robus...      kuala lumpur   \n",
            "1  design develop and deploy machine learning mod...  shah alam/subang   \n",
            "2  analyse data to better understand potential ri...          petaling   \n",
            "3  design development testing and operation of bi...      kuala lumpur   \n",
            "4  research build deploy and maintain recommendat...      kuala lumpur   \n",
            "\n",
            "                                 category  \\\n",
            "0                    science & technology   \n",
            "1                    science & technology   \n",
            "2            banking & financial services   \n",
            "3  information & communication technology   \n",
            "4  information & communication technology   \n",
            "\n",
            "                                      subcategory       type  \\\n",
            "0  mathematics, statistics & information sciences  full time   \n",
            "1  mathematics, statistics & information sciences  full time   \n",
            "2                               compliance & risk  full time   \n",
            "3                          engineering - software  full time   \n",
            "4                          developers/programmers  full time   \n",
            "\n",
            "                          salary  \n",
            "0                            NaN  \n",
            "1  RM 5,000 – RM 7,000 per month  \n",
            "2                            NaN  \n",
            "3                            NaN  \n",
            "4                            NaN  \n"
          ]
        }
      ]
    },
    {
      "cell_type": "markdown",
      "source": [
        "# Hands-On 2\n",
        "- Vektorisasi teks.\n",
        "- Labelling & Similarity Mapping.\n",
        "- Recommendation Modelling."
      ],
      "metadata": {
        "id": "GK4IWuwLQvHC"
      }
    },
    {
      "cell_type": "code",
      "source": [
        "from sklearn.feature_extraction.text import TfidfVectorizer\n",
        "from sklearn.metrics.pairwise import cosine_similarity\n",
        "import numpy as np"
      ],
      "metadata": {
        "id": "Wt7-AV0cQvmy"
      },
      "execution_count": 43,
      "outputs": []
    },
    {
      "cell_type": "markdown",
      "source": [
        "## Kolom yang akan ditindak lanjuti\n",
        "- `leaned_job_title`\n",
        "- `cleaned_descriptions`"
      ],
      "metadata": {
        "id": "xlzgN-zjRK_z"
      }
    },
    {
      "cell_type": "code",
      "source": [
        "df[['job_title', 'descriptions']].head()"
      ],
      "metadata": {
        "colab": {
          "base_uri": "https://localhost:8080/",
          "height": 206
        },
        "id": "Rr4RFZjeQ0Dc",
        "outputId": "61b4ac32-db60-4863-b9b0-7b225c0dcf05"
      },
      "execution_count": 44,
      "outputs": [
        {
          "output_type": "execute_result",
          "data": {
            "text/plain": [
              "                             job_title  \\\n",
              "0                        data engineer   \n",
              "1         machine learning engineer ai   \n",
              "2              senior riskdata analyst   \n",
              "3  senior data engineer hybrid working   \n",
              "4        data scientist hybrid working   \n",
              "\n",
              "                                        descriptions  \n",
              "0  design develop and maintain scalable and robus...  \n",
              "1  design develop and deploy machine learning mod...  \n",
              "2  analyse data to better understand potential ri...  \n",
              "3  design development testing and operation of bi...  \n",
              "4  research build deploy and maintain recommendat...  "
            ],
            "text/html": [
              "\n",
              "  <div id=\"df-8772a883-c1d8-4b1c-9516-2ffd0a589fab\" class=\"colab-df-container\">\n",
              "    <div>\n",
              "<style scoped>\n",
              "    .dataframe tbody tr th:only-of-type {\n",
              "        vertical-align: middle;\n",
              "    }\n",
              "\n",
              "    .dataframe tbody tr th {\n",
              "        vertical-align: top;\n",
              "    }\n",
              "\n",
              "    .dataframe thead th {\n",
              "        text-align: right;\n",
              "    }\n",
              "</style>\n",
              "<table border=\"1\" class=\"dataframe\">\n",
              "  <thead>\n",
              "    <tr style=\"text-align: right;\">\n",
              "      <th></th>\n",
              "      <th>job_title</th>\n",
              "      <th>descriptions</th>\n",
              "    </tr>\n",
              "  </thead>\n",
              "  <tbody>\n",
              "    <tr>\n",
              "      <th>0</th>\n",
              "      <td>data engineer</td>\n",
              "      <td>design develop and maintain scalable and robus...</td>\n",
              "    </tr>\n",
              "    <tr>\n",
              "      <th>1</th>\n",
              "      <td>machine learning engineer ai</td>\n",
              "      <td>design develop and deploy machine learning mod...</td>\n",
              "    </tr>\n",
              "    <tr>\n",
              "      <th>2</th>\n",
              "      <td>senior riskdata analyst</td>\n",
              "      <td>analyse data to better understand potential ri...</td>\n",
              "    </tr>\n",
              "    <tr>\n",
              "      <th>3</th>\n",
              "      <td>senior data engineer hybrid working</td>\n",
              "      <td>design development testing and operation of bi...</td>\n",
              "    </tr>\n",
              "    <tr>\n",
              "      <th>4</th>\n",
              "      <td>data scientist hybrid working</td>\n",
              "      <td>research build deploy and maintain recommendat...</td>\n",
              "    </tr>\n",
              "  </tbody>\n",
              "</table>\n",
              "</div>\n",
              "    <div class=\"colab-df-buttons\">\n",
              "\n",
              "  <div class=\"colab-df-container\">\n",
              "    <button class=\"colab-df-convert\" onclick=\"convertToInteractive('df-8772a883-c1d8-4b1c-9516-2ffd0a589fab')\"\n",
              "            title=\"Convert this dataframe to an interactive table.\"\n",
              "            style=\"display:none;\">\n",
              "\n",
              "  <svg xmlns=\"http://www.w3.org/2000/svg\" height=\"24px\" viewBox=\"0 -960 960 960\">\n",
              "    <path d=\"M120-120v-720h720v720H120Zm60-500h600v-160H180v160Zm220 220h160v-160H400v160Zm0 220h160v-160H400v160ZM180-400h160v-160H180v160Zm440 0h160v-160H620v160ZM180-180h160v-160H180v160Zm440 0h160v-160H620v160Z\"/>\n",
              "  </svg>\n",
              "    </button>\n",
              "\n",
              "  <style>\n",
              "    .colab-df-container {\n",
              "      display:flex;\n",
              "      gap: 12px;\n",
              "    }\n",
              "\n",
              "    .colab-df-convert {\n",
              "      background-color: #E8F0FE;\n",
              "      border: none;\n",
              "      border-radius: 50%;\n",
              "      cursor: pointer;\n",
              "      display: none;\n",
              "      fill: #1967D2;\n",
              "      height: 32px;\n",
              "      padding: 0 0 0 0;\n",
              "      width: 32px;\n",
              "    }\n",
              "\n",
              "    .colab-df-convert:hover {\n",
              "      background-color: #E2EBFA;\n",
              "      box-shadow: 0px 1px 2px rgba(60, 64, 67, 0.3), 0px 1px 3px 1px rgba(60, 64, 67, 0.15);\n",
              "      fill: #174EA6;\n",
              "    }\n",
              "\n",
              "    .colab-df-buttons div {\n",
              "      margin-bottom: 4px;\n",
              "    }\n",
              "\n",
              "    [theme=dark] .colab-df-convert {\n",
              "      background-color: #3B4455;\n",
              "      fill: #D2E3FC;\n",
              "    }\n",
              "\n",
              "    [theme=dark] .colab-df-convert:hover {\n",
              "      background-color: #434B5C;\n",
              "      box-shadow: 0px 1px 3px 1px rgba(0, 0, 0, 0.15);\n",
              "      filter: drop-shadow(0px 1px 2px rgba(0, 0, 0, 0.3));\n",
              "      fill: #FFFFFF;\n",
              "    }\n",
              "  </style>\n",
              "\n",
              "    <script>\n",
              "      const buttonEl =\n",
              "        document.querySelector('#df-8772a883-c1d8-4b1c-9516-2ffd0a589fab button.colab-df-convert');\n",
              "      buttonEl.style.display =\n",
              "        google.colab.kernel.accessAllowed ? 'block' : 'none';\n",
              "\n",
              "      async function convertToInteractive(key) {\n",
              "        const element = document.querySelector('#df-8772a883-c1d8-4b1c-9516-2ffd0a589fab');\n",
              "        const dataTable =\n",
              "          await google.colab.kernel.invokeFunction('convertToInteractive',\n",
              "                                                    [key], {});\n",
              "        if (!dataTable) return;\n",
              "\n",
              "        const docLinkHtml = 'Like what you see? Visit the ' +\n",
              "          '<a target=\"_blank\" href=https://colab.research.google.com/notebooks/data_table.ipynb>data table notebook</a>'\n",
              "          + ' to learn more about interactive tables.';\n",
              "        element.innerHTML = '';\n",
              "        dataTable['output_type'] = 'display_data';\n",
              "        await google.colab.output.renderOutput(dataTable, element);\n",
              "        const docLink = document.createElement('div');\n",
              "        docLink.innerHTML = docLinkHtml;\n",
              "        element.appendChild(docLink);\n",
              "      }\n",
              "    </script>\n",
              "  </div>\n",
              "\n",
              "\n",
              "    <div id=\"df-f7a8898b-cd58-45bd-b4b8-15fd42c86825\">\n",
              "      <button class=\"colab-df-quickchart\" onclick=\"quickchart('df-f7a8898b-cd58-45bd-b4b8-15fd42c86825')\"\n",
              "                title=\"Suggest charts\"\n",
              "                style=\"display:none;\">\n",
              "\n",
              "<svg xmlns=\"http://www.w3.org/2000/svg\" height=\"24px\"viewBox=\"0 0 24 24\"\n",
              "     width=\"24px\">\n",
              "    <g>\n",
              "        <path d=\"M19 3H5c-1.1 0-2 .9-2 2v14c0 1.1.9 2 2 2h14c1.1 0 2-.9 2-2V5c0-1.1-.9-2-2-2zM9 17H7v-7h2v7zm4 0h-2V7h2v10zm4 0h-2v-4h2v4z\"/>\n",
              "    </g>\n",
              "</svg>\n",
              "      </button>\n",
              "\n",
              "<style>\n",
              "  .colab-df-quickchart {\n",
              "      --bg-color: #E8F0FE;\n",
              "      --fill-color: #1967D2;\n",
              "      --hover-bg-color: #E2EBFA;\n",
              "      --hover-fill-color: #174EA6;\n",
              "      --disabled-fill-color: #AAA;\n",
              "      --disabled-bg-color: #DDD;\n",
              "  }\n",
              "\n",
              "  [theme=dark] .colab-df-quickchart {\n",
              "      --bg-color: #3B4455;\n",
              "      --fill-color: #D2E3FC;\n",
              "      --hover-bg-color: #434B5C;\n",
              "      --hover-fill-color: #FFFFFF;\n",
              "      --disabled-bg-color: #3B4455;\n",
              "      --disabled-fill-color: #666;\n",
              "  }\n",
              "\n",
              "  .colab-df-quickchart {\n",
              "    background-color: var(--bg-color);\n",
              "    border: none;\n",
              "    border-radius: 50%;\n",
              "    cursor: pointer;\n",
              "    display: none;\n",
              "    fill: var(--fill-color);\n",
              "    height: 32px;\n",
              "    padding: 0;\n",
              "    width: 32px;\n",
              "  }\n",
              "\n",
              "  .colab-df-quickchart:hover {\n",
              "    background-color: var(--hover-bg-color);\n",
              "    box-shadow: 0 1px 2px rgba(60, 64, 67, 0.3), 0 1px 3px 1px rgba(60, 64, 67, 0.15);\n",
              "    fill: var(--button-hover-fill-color);\n",
              "  }\n",
              "\n",
              "  .colab-df-quickchart-complete:disabled,\n",
              "  .colab-df-quickchart-complete:disabled:hover {\n",
              "    background-color: var(--disabled-bg-color);\n",
              "    fill: var(--disabled-fill-color);\n",
              "    box-shadow: none;\n",
              "  }\n",
              "\n",
              "  .colab-df-spinner {\n",
              "    border: 2px solid var(--fill-color);\n",
              "    border-color: transparent;\n",
              "    border-bottom-color: var(--fill-color);\n",
              "    animation:\n",
              "      spin 1s steps(1) infinite;\n",
              "  }\n",
              "\n",
              "  @keyframes spin {\n",
              "    0% {\n",
              "      border-color: transparent;\n",
              "      border-bottom-color: var(--fill-color);\n",
              "      border-left-color: var(--fill-color);\n",
              "    }\n",
              "    20% {\n",
              "      border-color: transparent;\n",
              "      border-left-color: var(--fill-color);\n",
              "      border-top-color: var(--fill-color);\n",
              "    }\n",
              "    30% {\n",
              "      border-color: transparent;\n",
              "      border-left-color: var(--fill-color);\n",
              "      border-top-color: var(--fill-color);\n",
              "      border-right-color: var(--fill-color);\n",
              "    }\n",
              "    40% {\n",
              "      border-color: transparent;\n",
              "      border-right-color: var(--fill-color);\n",
              "      border-top-color: var(--fill-color);\n",
              "    }\n",
              "    60% {\n",
              "      border-color: transparent;\n",
              "      border-right-color: var(--fill-color);\n",
              "    }\n",
              "    80% {\n",
              "      border-color: transparent;\n",
              "      border-right-color: var(--fill-color);\n",
              "      border-bottom-color: var(--fill-color);\n",
              "    }\n",
              "    90% {\n",
              "      border-color: transparent;\n",
              "      border-bottom-color: var(--fill-color);\n",
              "    }\n",
              "  }\n",
              "</style>\n",
              "\n",
              "      <script>\n",
              "        async function quickchart(key) {\n",
              "          const quickchartButtonEl =\n",
              "            document.querySelector('#' + key + ' button');\n",
              "          quickchartButtonEl.disabled = true;  // To prevent multiple clicks.\n",
              "          quickchartButtonEl.classList.add('colab-df-spinner');\n",
              "          try {\n",
              "            const charts = await google.colab.kernel.invokeFunction(\n",
              "                'suggestCharts', [key], {});\n",
              "          } catch (error) {\n",
              "            console.error('Error during call to suggestCharts:', error);\n",
              "          }\n",
              "          quickchartButtonEl.classList.remove('colab-df-spinner');\n",
              "          quickchartButtonEl.classList.add('colab-df-quickchart-complete');\n",
              "        }\n",
              "        (() => {\n",
              "          let quickchartButtonEl =\n",
              "            document.querySelector('#df-f7a8898b-cd58-45bd-b4b8-15fd42c86825 button');\n",
              "          quickchartButtonEl.style.display =\n",
              "            google.colab.kernel.accessAllowed ? 'block' : 'none';\n",
              "        })();\n",
              "      </script>\n",
              "    </div>\n",
              "\n",
              "    </div>\n",
              "  </div>\n"
            ],
            "application/vnd.google.colaboratory.intrinsic+json": {
              "type": "dataframe",
              "summary": "{\n  \"name\": \"df[['job_title', 'descriptions']]\",\n  \"rows\": 5,\n  \"fields\": [\n    {\n      \"column\": \"job_title\",\n      \"properties\": {\n        \"dtype\": \"string\",\n        \"num_unique_values\": 5,\n        \"samples\": [\n          \"machine learning engineer ai\",\n          \"data scientist hybrid working\",\n          \"senior riskdata analyst\"\n        ],\n        \"semantic_type\": \"\",\n        \"description\": \"\"\n      }\n    },\n    {\n      \"column\": \"descriptions\",\n      \"properties\": {\n        \"dtype\": \"string\",\n        \"num_unique_values\": 5,\n        \"samples\": [\n          \"design develop and deploy machine learning models for our ai assistants work with data scientists and engineers to build and maintain our data pipelines and infrastructure evaluate and improve the performance of our ai assistants collaborate with product managers and designers to ensure that our ai assistants meet the needs of our customers collaborate with a multifunctional agile team of data science ux ui design product management and engineering to build new features products services that delight our customers develop and create endtoend machine learning feedback loop and integrate it into various customer interaction applications improve existing machine learning models both in terms of model performance and computing performance help drive code review optimization testing and tooling to improve code quality and system reliability research and implement best practices to enhance existing machine learning infrastructure and process be part of an active group of data science and machine learning practitioners that shape the direction of machine learning and artificial intelligence of the organization bs or higher in computer science computer engineering or related technical fields involving machine learning or equivalent technical experience strong analytical and problemsolving skills proven software development skills in multiple programming languages eg python golang c react angular experience with machine learning software packages eg chatgpt keras scikitlearn xgboost tensorflow nltk caffe theano conversational platforms such as and nuance mix familiar with llm model such as chatgpt or googles bard familiarity with containerbased technologies eg docker kubernetes and devops practices eg code review automated testing ci cd logging performance monitoring frontend technologies such as react and react native nice to have familiar with relational nosql vector databases mysql mongodb weaviate etc strong communication skills collaborative mindset experience with data processing tools eg hadoop apache spark apache beam and cloud platforms eg aws azure gcp considered a plus competitive salary and benefits package opportunity to work on challenging and innovative projects collaborative and supportive work environment opportunities for professional development and growth we are a team of passionate and innovative engineers who are committed to building the best possible ai assistants for our customers we offer a collaborative and supportive work environment where everyone is valued and respected we are committed to professional development and growth and we offer our employees opportunities to learn and grow their skills we offer a competitive salary and benefits package if you are a talented and passionate machine learning engineer who is looking for a challenging and rewarding opportunity we encourage you to apply have you worked in a role which requires experience with machine learning whats your expected monthly basic salary how many years experience do you have as a machine learning engineer\",\n          \"research build deploy and maintain recommendations ai solutions integrated with recruitment products aiming to properly connect candidates to recruiters improve the chances of matching job placements to leverage our ai platform to the next level work with strategy product data science and software development teams to address a variety of challenging business problems collaborate with teams from asia pacific and america partners explore new methodologies and technologies to address rd problems in a truly collaborative way around 2 years of commercial experience a msc or phd qualification in computer science computational physics mathematics statistics or a related field professional experience in one of the following programming languages large scale development using python go cc or java strong background in algorithms and data structures information retrieval machine learning good communication and interpersonal skills large scale development using python go cc or java algorithms and data structures information retrieval machine learning ability to perform data exploratory analysis for proof of concepts and to communicate the results to a diverse audience practice with search engine such as elasticsearch or solr relational database such as mysql or postgresql amazon web services eg ec2 elb s3 vpc route 53 distributed processing framework such as hadoop or spark container package such as docker deployment tools such as ansible terraform and chef knowledge in recommender systems data mining natural language processing optimization deep learning ability to adapt quickly and manage an environment of rapid change and development search engine such as elasticsearch or solr relational database such as mysql or postgresql amazon web services eg ec2 elb s3 vpc route 53 distributed processing framework such as hadoop or spark container package such as docker deployment tools such as ansible terraform and chef recommender systems data mining natural language processing optimization deep learning forming clear data addressable problem statements from current business problems gathering validating and understanding data relevant to the problem statement designing and building data transformation pipelines and machine learning algorithms to solve the business problem working with product management and other business stakeholders to review and iterate data products to fit emerging market trends evangelising appropriate ml methods and explaining them and their associated benefits and limitations to team members from engineering and strategy\",\n          \"analyse data to better understand potential risks concerns and outcomes of decisions aggregate data from multiple sources to provide a comprehensive assessment create reports summaries presentations and process documents to display results collaborate with other team members to effectively analyse and present data develop systems and processes for gathering and storing data for future analytic projects conduct research into potential clients and understand the risks of accepting each one identify economic and financial trends that may present a risk to the company monitor internal and external data points that may affect the risk level of a decision to support adhoc tasks assigned by superior as and when required degree in mathematics statistics data analytics minimum 3 7 years of similar working experiences advance in excel and familiar with data analytics tool sas etc well versed in english and bahasa malaysia whats your expected monthly basic salary how many years experience do you have as a data analyst which of the following microsoft office products are you experienced with how much notice are you required to give your current employer which of the following data mining tools are you experienced with\"\n        ],\n        \"semantic_type\": \"\",\n        \"description\": \"\"\n      }\n    }\n  ]\n}"
            }
          },
          "metadata": {},
          "execution_count": 44
        }
      ]
    },
    {
      "cell_type": "code",
      "source": [
        "# Tangani nilai yang hilang di kolom 'descriptions' dan 'job_title' dengan mengisi string kosong.\n",
        "df['descriptions'] = df['descriptions'].fillna('')\n",
        "df['job_title'] = df['job_title'].fillna('')\n",
        "\n",
        "# Membuat kolom 'combined_text' dengan menggabungkan konten dari 'job_title' dan 'descriptions'.\n",
        "df['combined_text'] = df['job_title'] + ' ' + df['descriptions']\n",
        "print(\"Kolom 'combined_text' berhasil dibuat dengan menggabungkan 'job_title' dan 'descriptions' yang sudah bersih.\")\n",
        "print(df[['job_title', 'descriptions', 'combined_text']].head())"
      ],
      "metadata": {
        "colab": {
          "base_uri": "https://localhost:8080/"
        },
        "id": "nbAEAa8pRawk",
        "outputId": "be2a5982-1cc3-402a-91bc-bdc713d40bff"
      },
      "execution_count": 45,
      "outputs": [
        {
          "output_type": "stream",
          "name": "stdout",
          "text": [
            "Kolom 'combined_text' berhasil dibuat dengan menggabungkan 'job_title' dan 'descriptions' yang sudah bersih.\n",
            "                             job_title  \\\n",
            "0                        data engineer   \n",
            "1         machine learning engineer ai   \n",
            "2              senior riskdata analyst   \n",
            "3  senior data engineer hybrid working   \n",
            "4        data scientist hybrid working   \n",
            "\n",
            "                                        descriptions  \\\n",
            "0  design develop and maintain scalable and robus...   \n",
            "1  design develop and deploy machine learning mod...   \n",
            "2  analyse data to better understand potential ri...   \n",
            "3  design development testing and operation of bi...   \n",
            "4  research build deploy and maintain recommendat...   \n",
            "\n",
            "                                       combined_text  \n",
            "0  data engineer design develop and maintain scal...  \n",
            "1  machine learning engineer ai design develop an...  \n",
            "2  senior riskdata analyst analyse data to better...  \n",
            "3  senior data engineer hybrid working design dev...  \n",
            "4  data scientist hybrid working research build d...  \n"
          ]
        }
      ]
    },
    {
      "cell_type": "markdown",
      "source": [
        "## TF-IDF Vectorization"
      ],
      "metadata": {
        "id": "1u62fodeRdpt"
      }
    },
    {
      "cell_type": "code",
      "source": [
        "# max_features=5000 membatasi jumlah fitur (kata/term unik) yang akan dipertimbangkan.\n",
        "tfidf_vectorizer = TfidfVectorizer(max_features=5000)\n",
        "\n",
        "# Fit dan transform kolom 'combined_text' untuk mendapatkan TF-IDF matrix.\n",
        "tfidf_matrix = tfidf_vectorizer.fit_transform(df['combined_text'])\n",
        "\n",
        "print(\"TF-IDF Vectorization Selesai pada kolom 'combined_text'.\")\n",
        "print(f\"Shape dari TF-IDF matrix: {tfidf_matrix.shape}\")"
      ],
      "metadata": {
        "colab": {
          "base_uri": "https://localhost:8080/"
        },
        "id": "hHIAHXx5X30H",
        "outputId": "665dc2c3-17e4-4fb3-df0e-ddab2ce489e0"
      },
      "execution_count": 46,
      "outputs": [
        {
          "output_type": "stream",
          "name": "stdout",
          "text": [
            "TF-IDF Vectorization Selesai pada kolom 'combined_text'.\n",
            "Shape dari TF-IDF matrix: (606, 2910)\n"
          ]
        }
      ]
    },
    {
      "cell_type": "markdown",
      "source": [
        "## Labelling & Similarity Mapping (Cosine Similarity)"
      ],
      "metadata": {
        "id": "bSIj4K_ARpUm"
      }
    },
    {
      "cell_type": "code",
      "source": [
        "cosine_sim_matrix = cosine_similarity(tfidf_matrix, tfidf_matrix)\n",
        "\n",
        "print(\"\\nCosine Similarity Matrix Selesai Dihitung (berdasarkan 'combined_text').\")\n",
        "print(f\"Shape dari Cosine Similarity Matrix: {cosine_sim_matrix.shape}\")\n",
        "\n",
        "# Membuat peta (mapping) dari judul pekerjaan yang sudah bersih ke indeks DataFrame-nya.\n",
        "indices = pd.Series(df.index, index=df['job_title'].apply(lambda x: str(x).lower().strip())).drop_duplicates()\n",
        "\n",
        "print(\"\\nPeta (mapping) judul pekerjaan ke indeks telah dibuat.\")"
      ],
      "metadata": {
        "colab": {
          "base_uri": "https://localhost:8080/"
        },
        "id": "ptWMaceyRnDN",
        "outputId": "57dc082b-de3e-4d71-e0d2-c96d1bf2ddac"
      },
      "execution_count": 47,
      "outputs": [
        {
          "output_type": "stream",
          "name": "stdout",
          "text": [
            "\n",
            "Cosine Similarity Matrix Selesai Dihitung (berdasarkan 'combined_text').\n",
            "Shape dari Cosine Similarity Matrix: (606, 606)\n",
            "\n",
            "Peta (mapping) judul pekerjaan ke indeks telah dibuat.\n"
          ]
        }
      ]
    },
    {
      "cell_type": "markdown",
      "source": [
        "## Recommendation Modelling Function"
      ],
      "metadata": {
        "id": "L5aLdoJAR0lb"
      }
    },
    {
      "cell_type": "code",
      "source": [
        "def recommend_jobs(job_title_input, top_n=5):\n",
        "    # Normalisasi judul pekerjaan input untuk pencarian (lowercase dan hilangkan spasi ekstra)\n",
        "    normalized_job_title_input = str(job_title_input).lower().strip()\n",
        "\n",
        "    # Periksa apakah judul pekerjaan input ada di dalam indeks yang telah dibuat\n",
        "    if normalized_job_title_input not in indices.index:\n",
        "        print(f\"Peringatan: Judul pekerjaan '{job_title_input}' tidak ditemukan dalam dataset.\")\n",
        "        return {}\n",
        "\n",
        "    # Dapatkan indeks baris dari judul pekerjaan target dari DataFrame utama\n",
        "    idx = indices.loc[normalized_job_title_input]\n",
        "\n",
        "    # Jika ada beberapa entri dengan judul yang sama (karena drop_duplicates), ambil indeks pertama\n",
        "    if isinstance(idx, pd.Series):\n",
        "        idx = idx.iloc[0]\n",
        "\n",
        "    # Dapatkan 'job_id' dari pekerjaan target. Ini penting untuk menghindari rekomendasi duplikasi.\n",
        "    target_job_id = df.iloc[idx]['job_id']\n",
        "\n",
        "    # Dapatkan semua skor kemiripan untuk pekerjaan ini dengan semua pekerjaan lain\n",
        "    sim_scores = list(enumerate(cosine_sim_matrix[idx]))\n",
        "\n",
        "    # Urutkan pekerjaan berdasarkan skor kemiripan dari yang tertinggi ke terendah\n",
        "    sim_scores = sorted(sim_scores, key=lambda x: x[1], reverse=True)\n",
        "\n",
        "    # Inisialisasi list untuk menyimpan rekomendasi unik\n",
        "    recommended_sim_scores = []\n",
        "    for i, score in sim_scores:\n",
        "        # Kecualikan pekerjaan jika 'job_id'-nya sama dengan 'job_id' pekerjaan target.\n",
        "        if df.iloc[i]['job_id'] != target_job_id:\n",
        "            recommended_sim_scores.append((i, score))\n",
        "\n",
        "        # Hentikan iterasi setelah mencapai jumlah rekomendasi yang diminta (top_n)\n",
        "        if len(recommended_sim_scores) >= top_n:\n",
        "            break\n",
        "\n",
        "    # Jika tidak ada rekomendasi unik yang ditemukan setelah penyaringan\n",
        "    if not recommended_sim_scores:\n",
        "        print(f\"Tidak ada rekomendasi unik yang ditemukan untuk '{job_title_input}' selain pekerjaan itu sendiri atau duplikasinya.\")\n",
        "        return {}\n",
        "\n",
        "    # Ekstrak indeks pekerjaan dan skor kemiripan dari rekomendasi yang sudah difilter\n",
        "    job_indices = [i[0] for i in recommended_sim_scores]\n",
        "    similarity_scores = [i[1] for i in recommended_sim_scores]\n",
        "\n",
        "    # Buat kamus (dictionary) hasil rekomendasi: {Judul Pekerjaan (bersih): Skor Kemiripan}\n",
        "    recommended_jobs = {}\n",
        "    for i, score in zip(job_indices, similarity_scores):\n",
        "        original_job_title = df['job_title'].iloc[i]\n",
        "        recommended_jobs[original_job_title] = score\n",
        "    return recommended_jobs\n",
        "\n",
        "print(\"\\nFungsi `recommend_jobs` telah didefinisikan.\")"
      ],
      "metadata": {
        "colab": {
          "base_uri": "https://localhost:8080/"
        },
        "id": "6vUC0k2CYRq2",
        "outputId": "2570de5a-f042-431a-ac13-ec479b023952"
      },
      "execution_count": 59,
      "outputs": [
        {
          "output_type": "stream",
          "name": "stdout",
          "text": [
            "\n",
            "Fungsi `recommend_jobs` telah didefinisikan.\n"
          ]
        }
      ]
    },
    {
      "cell_type": "markdown",
      "source": [
        "# Contoh Penggunaan Fungsi Rekomendasi"
      ],
      "metadata": {
        "id": "911WYbZxYknn"
      }
    },
    {
      "cell_type": "code",
      "source": [
        "common_job_titles = df['job_title'].value_counts().head(10).index.tolist()\n",
        "print(f\"\\nBeberapa judul pekerjaan yang umum di dataset: {common_job_titles}\")\n",
        "\n",
        "test_job_title = \"data analyst\" # Contoh: posisi data analyst\n",
        "if test_job_title.lower() not in [x.lower() for x in common_job_titles] and common_job_titles:\n",
        "    test_job_title = common_job_titles[0] # Fallback jika judul yang dipilih tidak ada\n",
        "\n",
        "recommendations = recommend_jobs(test_job_title, top_n=5)\n",
        "\n",
        "if recommendations:\n",
        "    print(f\"\\nRekomendasi untuk '{test_job_title.title()}':\")\n",
        "    for i, (job, score) in enumerate(recommendations.items(), start=1):\n",
        "        print(f\"{i}. {job.title()} — Skor Kemiripan: {score:.4f}\")\n",
        "else:\n",
        "    print(f\"\\nTidak ada rekomendasi yang ditemukan untuk '{test_job_title.title()}'.\")"
      ],
      "metadata": {
        "colab": {
          "base_uri": "https://localhost:8080/"
        },
        "id": "KAaZEwl7Yh-H",
        "outputId": "d17d065b-ceac-4f7a-e064-ed7a5a9489e3"
      },
      "execution_count": 60,
      "outputs": [
        {
          "output_type": "stream",
          "name": "stdout",
          "text": [
            "\n",
            "Beberapa judul pekerjaan yang umum di dataset: ['data analyst', 'data engineer', 'system analyst', 'it business analyst', 'database administrator', 'data scientist', 'senior data engineer', 'executive business intelligence sas analyst', 'senior engineer engineer data management analytics', 'data scientist hybrid working']\n",
            "\n",
            "Rekomendasi untuk 'Data Analyst':\n",
            "1. Ecommerce Data Analyst — Skor Kemiripan: 0.5704\n"
          ]
        }
      ]
    },
    {
      "cell_type": "markdown",
      "source": [
        "## Simpan Data yang Sudah Diproses Akhir, Vektorisasi, dan Similarity"
      ],
      "metadata": {
        "id": "1nNMAeTucG-A"
      }
    },
    {
      "cell_type": "code",
      "source": [
        "final_csv_filename_df = 'processed_job_data.csv'\n",
        "df.to_csv(final_csv_filename_df, index=False)\n",
        "print(f\"\\nData DataFrame yang sudah diproses berhasil disimpan ke file CSV: '{final_csv_filename_df}'\")\n",
        "\n",
        "# Simpan DataFrame ke JSON\n",
        "final_json_filename_df = 'processed_job_data.json'\n",
        "df.to_json(final_json_filename_df, orient='records', indent=4)\n",
        "print(f\"Data DataFrame yang sudah diproses berhasil disimpan ke file JSON: '{final_json_filename_df}'\")\n",
        "\n",
        "\n",
        "# --- Menyimpan Hasil Vektorisasi (TF-IDF Matrix) ---\n",
        "tfidf_dense = tfidf_matrix.toarray() # Mengubah sparse matrix menjadi dense array\n",
        "\n",
        "# Simpan TF-IDF matrix (dense) ke CSV\n",
        "tfidf_csv_filename = 'tfidf_matrix.csv'\n",
        "np.savetxt(tfidf_csv_filename, tfidf_dense, delimiter=',')\n",
        "print(f\"\\nHasil TF-IDF matrix berhasil disimpan ke file CSV: '{tfidf_csv_filename}'\")\n",
        "\n",
        "# menyimpan dalam format biner NumPy (.npy) yang lebih efisien untuk array\n",
        "tfidf_npy_filename = 'tfidf_matrix.npy'\n",
        "np.save(tfidf_npy_filename, tfidf_dense)\n",
        "print(f\"Hasil TF-IDF matrix berhasil disimpan ke file NPY: '{tfidf_npy_filename}'\")\n",
        "\n",
        "\n",
        "# --- Menyimpan Hasil Similarity (Cosine Similarity Matrix) ---\n",
        "cosine_sim_csv_filename = 'cosine_sim_matrix.csv'\n",
        "np.savetxt(cosine_sim_csv_filename, cosine_sim_matrix, delimiter=',')\n",
        "print(f\"\\nHasil Cosine Similarity matrix berhasil disimpan ke file CSV: '{cosine_sim_csv_filename}'\")\n",
        "\n",
        "# menyimpan dalam format biner NumPy (.npy) yang lebih efisien\n",
        "cosine_sim_npy_filename = 'cosine_sim_matrix.npy'\n",
        "np.save(cosine_sim_npy_filename, cosine_sim_matrix)\n",
        "print(f\"Hasil Cosine Similarity matrix berhasil disimpan ke file NPY: '{cosine_sim_npy_filename}'\")\n",
        "\n",
        "print(\"\\nSemua file hasil telah disimpan.\")"
      ],
      "metadata": {
        "colab": {
          "base_uri": "https://localhost:8080/"
        },
        "id": "L9Le4plncIDa",
        "outputId": "0d89ddb5-596b-4745-9776-6e9a0686f22b"
      },
      "execution_count": 61,
      "outputs": [
        {
          "output_type": "stream",
          "name": "stdout",
          "text": [
            "\n",
            "Data DataFrame yang sudah diproses berhasil disimpan ke file CSV: 'processed_job_data.csv'\n",
            "Data DataFrame yang sudah diproses berhasil disimpan ke file JSON: 'processed_job_data.json'\n",
            "\n",
            "Hasil TF-IDF matrix berhasil disimpan ke file CSV: 'tfidf_matrix.csv'\n",
            "Hasil TF-IDF matrix berhasil disimpan ke file NPY: 'tfidf_matrix.npy'\n",
            "\n",
            "Hasil Cosine Similarity matrix berhasil disimpan ke file CSV: 'cosine_sim_matrix.csv'\n",
            "Hasil Cosine Similarity matrix berhasil disimpan ke file NPY: 'cosine_sim_matrix.npy'\n",
            "\n",
            "Semua file hasil telah disimpan.\n"
          ]
        }
      ]
    }
  ]
}